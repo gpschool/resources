{
 "cells": [
  {
   "cell_type": "markdown",
   "metadata": {},
   "source": [
    "# Tutorials\n",
    "\n",
    "The labs for the Gaussian Process Summer School can be downloaded here. All of the lab sheets are written in Python 3 given in Jupyter notebook format.\n",
    "\n",
    "Details of how to set up your Python environment and on the installation of the necessary libraries are available on the [Getting Started](./gpss18/getting_started) page. Ensure you have completed the setup before starting the labs.\n",
    "\n",
    "Each lab sheet will be made available on the day of the lab, and answers for each will be made shortly after. There are also some extra work sheets, for you to explore in your own time, which give details of other uses of Gaussian processes not covered in the summer school.\n",
    "\n",
    "## Lab 1 : Gaussian Processes Regression\n",
    "\n",
    "This lab is designed to introduce Gaussian processes in a practical way, illustrating the concepts introduced in the first two lectures. The key aspects of Gaussian process regression are covered: the covariance function (aka kernels); sampling a Gaussian process; and the regression model. The notebook will introduce the open source Python library GPy which handles the kernels, regression and optimisation of hyperparameter, allowing us to easily access the results we want.\n",
    "\n",
    "| Lab | Answers |\n",
    "|----------|---------|\n",
    "| [Notebook](./labs/GPSS_Lab1_2018.ipynb) | [Answers](./labs/GPSS_Lab1_2018_Answers.ipynb) |\n",
    "\n",
    "### Lab 1 Extra : Uncertainty Propagation\n",
    "\n",
    "_description tbc_\n",
    "\n",
    "[Notebook](./labs/GPSS_Lab1_Extra_2018.ipynb)\n",
    "\n",
    "## Lab 2 : GPs for Non-Gaussian Likelihoods and Big Data\n",
    "\n",
    "This lab introduces Gaussian process regression for data with non-Gaussian likelihoods, and shows how this can be applied to classification. The concept of sparse methods for Gaussian process regression is introduced for creating a scalable regression model, and this is combined with a large classification problem.\n",
    "\n",
    "As with Lab 1, the notebook uses GPy for handling the regression model and likelihoods.\n",
    "\n",
    "| Lab | Answers |\n",
    "|----------|---------|\n",
    "| [Notebook](./labs/GPSS_Lab2_2018.ipynb) | [Answers](./labs/GPSS_Lab2_2018_Answers.ipynb) |\n",
    "\n",
    "### Lab 2 Extra : Multi-Output GPs\n",
    "\n",
    "_description tbc_\n",
    "\n",
    "[Notebook](./labs/GPSS_Lab2_Extra_2018.ipynb)\n",
    "\n",
    "## Lab 3 : Bayesian Optimisation\n",
    "\n",
    "_description tbc_\n",
    "\n",
    "| Lab | Answers |\n",
    "|----------|---------|\n",
    "| [Notebook](./labs/GPSS_Lab3_2018.ipynb) | [Answers](./labs/GPSS_Lab3_2018_Answers.ipynb) |\n",
    "\n",
    "\n",
    "### Lab 3 Extra : Gaussian Process Latent Variable Model\n",
    "\n",
    "_description_\n",
    "\n",
    "[Notebook](./labs/GPSS_Lab3_Extra_2018.ipynb)"
   ]
  }
 ],
 "metadata": {
  "kernelspec": {
   "display_name": "Python 3",
   "language": "python",
   "name": "python3"
  },
  "language_info": {
   "codemirror_mode": {
    "name": "ipython",
    "version": 3
   },
   "file_extension": ".py",
   "mimetype": "text/x-python",
   "name": "python",
   "nbconvert_exporter": "python",
   "pygments_lexer": "ipython3",
   "version": "3.6.6"
  }
 },
 "nbformat": 4,
 "nbformat_minor": 2
}
